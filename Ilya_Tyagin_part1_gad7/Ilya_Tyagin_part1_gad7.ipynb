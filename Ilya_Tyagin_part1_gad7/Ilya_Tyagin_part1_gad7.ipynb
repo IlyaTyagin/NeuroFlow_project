{
 "cells": [
  {
   "cell_type": "markdown",
   "metadata": {},
   "source": [
    "# GAD-7 Data Exploration (by Ilya Tyagin)"
   ]
  },
  {
   "cell_type": "markdown",
   "metadata": {},
   "source": [
    "<h1>Table of Contents<span class=\"tocSkip\"></span></h1>\n",
    "<p></p>\n",
    "<div class=\"toc\"><ul class=\"toc-item\"><li><span><a href=\"#GAD-7-Data-Exploration-(by-Ilya-Tyagin)\" data-toc-modified-id=\"GAD-7-Data-Exploration-(by-Ilya-Tyagin)-1\"><span class=\"toc-item-num\">1&nbsp;&nbsp;</span>GAD-7 Data Exploration (by Ilya Tyagin)</a></span><ul class=\"toc-item\"><li><span><a href=\"#Importing-libraries\" data-toc-modified-id=\"Importing-libraries-1.1\"><span class=\"toc-item-num\">1.1&nbsp;&nbsp;</span>Importing libraries</a></span></li><li><span><a href=\"#Reading-dataset\" data-toc-modified-id=\"Reading-dataset-1.2\"><span class=\"toc-item-num\">1.2&nbsp;&nbsp;</span>Reading dataset</a></span></li><li><span><a href=\"#Data-representation\" data-toc-modified-id=\"Data-representation-1.3\"><span class=\"toc-item-num\">1.3&nbsp;&nbsp;</span>Data representation</a></span></li><li><span><a href=\"#Data-cleaning\" data-toc-modified-id=\"Data-cleaning-1.4\"><span class=\"toc-item-num\">1.4&nbsp;&nbsp;</span>Data cleaning</a></span></li><li><span><a href=\"#Getting-some-information-about-patients\" data-toc-modified-id=\"Getting-some-information-about-patients-1.5\"><span class=\"toc-item-num\">1.5&nbsp;&nbsp;</span>Getting some information about patients</a></span><ul class=\"toc-item\"><li><span><a href=\"#Further-clinical-evaluation-recommendation\" data-toc-modified-id=\"Further-clinical-evaluation-recommendation-1.5.1\"><span class=\"toc-item-num\">1.5.1&nbsp;&nbsp;</span>Further clinical evaluation recommendation</a></span></li><li><span><a href=\"#Distribution-of-the-number-of-observations\" data-toc-modified-id=\"Distribution-of-the-number-of-observations-1.5.2\"><span class=\"toc-item-num\">1.5.2&nbsp;&nbsp;</span>Distribution of the number of observations</a></span></li><li><span><a href=\"#Distribution-of-treatment-duration\" data-toc-modified-id=\"Distribution-of-treatment-duration-1.5.3\"><span class=\"toc-item-num\">1.5.3&nbsp;&nbsp;</span>Distribution of treatment duration</a></span></li><li><span><a href=\"#Additional-data-filtering-step:-keep-only-patients-who-demonstrated-meaningful-involvement-in-testing-process\" data-toc-modified-id=\"Additional-data-filtering-step:-keep-only-patients-who-demonstrated-meaningful-involvement-in-testing-process-1.5.4\"><span class=\"toc-item-num\">1.5.4&nbsp;&nbsp;</span>Additional data filtering step: keep only patients who demonstrated meaningful involvement in testing process</a></span></li><li><span><a href=\"#Relationship-between-treatment-duration-and-number-of-assessments-taken\" data-toc-modified-id=\"Relationship-between-treatment-duration-and-number-of-assessments-taken-1.5.5\"><span class=\"toc-item-num\">1.5.5&nbsp;&nbsp;</span>Relationship between treatment duration and number of assessments taken</a></span></li><li><span><a href=\"#Patients-progress-during-the-treatment\" data-toc-modified-id=\"Patients-progress-during-the-treatment-1.5.6\"><span class=\"toc-item-num\">1.5.6&nbsp;&nbsp;</span>Patients progress during the treatment</a></span></li><li><span><a href=\"#Outlier-detection\" data-toc-modified-id=\"Outlier-detection-1.5.7\"><span class=\"toc-item-num\">1.5.7&nbsp;&nbsp;</span>Outlier detection</a></span></li><li><span><a href=\"#Comparison-of-scores-between-first-and-last-GAD-7-assessments\" data-toc-modified-id=\"Comparison-of-scores-between-first-and-last-GAD-7-assessments-1.5.8\"><span class=\"toc-item-num\">1.5.8&nbsp;&nbsp;</span>Comparison of scores between first and last GAD-7 assessments</a></span></li></ul></li><li><span><a href=\"#Summary\" data-toc-modified-id=\"Summary-1.6\"><span class=\"toc-item-num\">1.6&nbsp;&nbsp;</span>Summary</a></span></li></ul></li></ul></div>"
   ]
  },
  {
   "cell_type": "markdown",
   "metadata": {},
   "source": [
    "## Importing libraries"
   ]
  },
  {
   "cell_type": "code",
   "execution_count": 1,
   "metadata": {},
   "outputs": [],
   "source": [
    "import pandas as pd\n",
    "import numpy as np\n",
    "from matplotlib import pyplot as plt\n",
    "from scipy.stats import pearsonr\n",
    "\n",
    "plt.rc('figure', figsize=(15.0, 10.0))\n",
    "pd.set_option('display.max_colwidth', None)"
   ]
  },
  {
   "cell_type": "markdown",
   "metadata": {},
   "source": [
    "## Reading dataset"
   ]
  },
  {
   "cell_type": "code",
   "execution_count": 2,
   "metadata": {},
   "outputs": [],
   "source": [
    "## Dataset is expected to be in the same directory as the notebook\n",
    "\n",
    "phq_df = pd.read_csv('phq_all_final.csv')"
   ]
  },
  {
   "cell_type": "code",
   "execution_count": 3,
   "metadata": {},
   "outputs": [
    {
     "data": {
      "text/html": [
       "<div>\n",
       "<style scoped>\n",
       "    .dataframe tbody tr th:only-of-type {\n",
       "        vertical-align: middle;\n",
       "    }\n",
       "\n",
       "    .dataframe tbody tr th {\n",
       "        vertical-align: top;\n",
       "    }\n",
       "\n",
       "    .dataframe thead th {\n",
       "        text-align: right;\n",
       "    }\n",
       "</style>\n",
       "<table border=\"1\" class=\"dataframe\">\n",
       "  <thead>\n",
       "    <tr style=\"text-align: right;\">\n",
       "      <th></th>\n",
       "      <th>date</th>\n",
       "      <th>patient_id</th>\n",
       "      <th>type</th>\n",
       "      <th>patient_date_created</th>\n",
       "      <th>score</th>\n",
       "    </tr>\n",
       "  </thead>\n",
       "  <tbody>\n",
       "    <tr>\n",
       "      <th>0</th>\n",
       "      <td>2019-08-26T13:32:43.019162</td>\n",
       "      <td>8430</td>\n",
       "      <td>gad7</td>\n",
       "      <td>2019-06-03T13:23:02.63568</td>\n",
       "      <td>6</td>\n",
       "    </tr>\n",
       "    <tr>\n",
       "      <th>1</th>\n",
       "      <td>2019-11-15T17:55:11.364877</td>\n",
       "      <td>8430</td>\n",
       "      <td>gad7</td>\n",
       "      <td>2019-06-03T13:23:02.63568</td>\n",
       "      <td>1</td>\n",
       "    </tr>\n",
       "    <tr>\n",
       "      <th>2</th>\n",
       "      <td>2019-10-07T18:23:29.611351</td>\n",
       "      <td>14338</td>\n",
       "      <td>gad7</td>\n",
       "      <td>2019-06-03T13:32:30.66846</td>\n",
       "      <td>10</td>\n",
       "    </tr>\n",
       "    <tr>\n",
       "      <th>3</th>\n",
       "      <td>2019-11-04T20:16:28.610965</td>\n",
       "      <td>14338</td>\n",
       "      <td>gad7</td>\n",
       "      <td>2019-06-03T13:32:30.66846</td>\n",
       "      <td>7</td>\n",
       "    </tr>\n",
       "    <tr>\n",
       "      <th>4</th>\n",
       "      <td>2019-12-02T20:56:55.966354</td>\n",
       "      <td>14338</td>\n",
       "      <td>gad7</td>\n",
       "      <td>2019-06-03T13:32:30.66846</td>\n",
       "      <td>9</td>\n",
       "    </tr>\n",
       "  </tbody>\n",
       "</table>\n",
       "</div>"
      ],
      "text/plain": [
       "                         date  patient_id  type       patient_date_created  \\\n",
       "0  2019-08-26T13:32:43.019162        8430  gad7  2019-06-03T13:23:02.63568   \n",
       "1  2019-11-15T17:55:11.364877        8430  gad7  2019-06-03T13:23:02.63568   \n",
       "2  2019-10-07T18:23:29.611351       14338  gad7  2019-06-03T13:32:30.66846   \n",
       "3  2019-11-04T20:16:28.610965       14338  gad7  2019-06-03T13:32:30.66846   \n",
       "4  2019-12-02T20:56:55.966354       14338  gad7  2019-06-03T13:32:30.66846   \n",
       "\n",
       "   score  \n",
       "0      6  \n",
       "1      1  \n",
       "2     10  \n",
       "3      7  \n",
       "4      9  "
      ]
     },
     "execution_count": 3,
     "metadata": {},
     "output_type": "execute_result"
    }
   ],
   "source": [
    "phq_df.head()"
   ]
  },
  {
   "cell_type": "code",
   "execution_count": 4,
   "metadata": {},
   "outputs": [],
   "source": [
    "phq_df['date'] = phq_df['date'].astype(np.datetime64)\n",
    "phq_df['patient_date_created'] = phq_df['patient_date_created'].astype(np.datetime64)"
   ]
  },
  {
   "cell_type": "code",
   "execution_count": 5,
   "metadata": {},
   "outputs": [
    {
     "data": {
      "text/plain": [
       "0    gad7\n",
       "Name: type, dtype: object"
      ]
     },
     "execution_count": 5,
     "metadata": {},
     "output_type": "execute_result"
    }
   ],
   "source": [
    "phq_df['type'].drop_duplicates()"
   ]
  },
  {
   "cell_type": "markdown",
   "metadata": {},
   "source": [
    "`type` column does not contain any useful information, so we can drop it:"
   ]
  },
  {
   "cell_type": "code",
   "execution_count": 6,
   "metadata": {},
   "outputs": [
    {
     "data": {
      "text/html": [
       "<div>\n",
       "<style scoped>\n",
       "    .dataframe tbody tr th:only-of-type {\n",
       "        vertical-align: middle;\n",
       "    }\n",
       "\n",
       "    .dataframe tbody tr th {\n",
       "        vertical-align: top;\n",
       "    }\n",
       "\n",
       "    .dataframe thead th {\n",
       "        text-align: right;\n",
       "    }\n",
       "</style>\n",
       "<table border=\"1\" class=\"dataframe\">\n",
       "  <thead>\n",
       "    <tr style=\"text-align: right;\">\n",
       "      <th></th>\n",
       "      <th>date</th>\n",
       "      <th>patient_id</th>\n",
       "      <th>patient_date_created</th>\n",
       "      <th>score</th>\n",
       "    </tr>\n",
       "  </thead>\n",
       "  <tbody>\n",
       "    <tr>\n",
       "      <th>0</th>\n",
       "      <td>2019-08-26 13:32:43.019162</td>\n",
       "      <td>8430</td>\n",
       "      <td>2019-06-03 13:23:02.635680</td>\n",
       "      <td>6</td>\n",
       "    </tr>\n",
       "    <tr>\n",
       "      <th>1</th>\n",
       "      <td>2019-11-15 17:55:11.364877</td>\n",
       "      <td>8430</td>\n",
       "      <td>2019-06-03 13:23:02.635680</td>\n",
       "      <td>1</td>\n",
       "    </tr>\n",
       "    <tr>\n",
       "      <th>2</th>\n",
       "      <td>2019-10-07 18:23:29.611351</td>\n",
       "      <td>14338</td>\n",
       "      <td>2019-06-03 13:32:30.668460</td>\n",
       "      <td>10</td>\n",
       "    </tr>\n",
       "    <tr>\n",
       "      <th>3</th>\n",
       "      <td>2019-11-04 20:16:28.610965</td>\n",
       "      <td>14338</td>\n",
       "      <td>2019-06-03 13:32:30.668460</td>\n",
       "      <td>7</td>\n",
       "    </tr>\n",
       "    <tr>\n",
       "      <th>4</th>\n",
       "      <td>2019-12-02 20:56:55.966354</td>\n",
       "      <td>14338</td>\n",
       "      <td>2019-06-03 13:32:30.668460</td>\n",
       "      <td>9</td>\n",
       "    </tr>\n",
       "    <tr>\n",
       "      <th>...</th>\n",
       "      <td>...</td>\n",
       "      <td>...</td>\n",
       "      <td>...</td>\n",
       "      <td>...</td>\n",
       "    </tr>\n",
       "    <tr>\n",
       "      <th>53693</th>\n",
       "      <td>2020-07-31 13:59:13.201741</td>\n",
       "      <td>10683</td>\n",
       "      <td>2020-07-31 13:54:20.164253</td>\n",
       "      <td>1</td>\n",
       "    </tr>\n",
       "    <tr>\n",
       "      <th>53694</th>\n",
       "      <td>2020-07-31 15:08:56.079027</td>\n",
       "      <td>12344</td>\n",
       "      <td>2020-07-31 15:06:51.043730</td>\n",
       "      <td>1</td>\n",
       "    </tr>\n",
       "    <tr>\n",
       "      <th>53695</th>\n",
       "      <td>2020-07-31 15:52:50.353265</td>\n",
       "      <td>17475</td>\n",
       "      <td>2020-07-31 15:40:07.726529</td>\n",
       "      <td>7</td>\n",
       "    </tr>\n",
       "    <tr>\n",
       "      <th>53696</th>\n",
       "      <td>2020-07-31 17:36:57.057913</td>\n",
       "      <td>9069</td>\n",
       "      <td>2020-07-31 17:33:27.096572</td>\n",
       "      <td>3</td>\n",
       "    </tr>\n",
       "    <tr>\n",
       "      <th>53697</th>\n",
       "      <td>2020-07-31 17:58:53.067462</td>\n",
       "      <td>4870</td>\n",
       "      <td>2020-07-31 17:58:21.004418</td>\n",
       "      <td>4</td>\n",
       "    </tr>\n",
       "  </tbody>\n",
       "</table>\n",
       "<p>53698 rows × 4 columns</p>\n",
       "</div>"
      ],
      "text/plain": [
       "                            date  patient_id       patient_date_created  score\n",
       "0     2019-08-26 13:32:43.019162        8430 2019-06-03 13:23:02.635680      6\n",
       "1     2019-11-15 17:55:11.364877        8430 2019-06-03 13:23:02.635680      1\n",
       "2     2019-10-07 18:23:29.611351       14338 2019-06-03 13:32:30.668460     10\n",
       "3     2019-11-04 20:16:28.610965       14338 2019-06-03 13:32:30.668460      7\n",
       "4     2019-12-02 20:56:55.966354       14338 2019-06-03 13:32:30.668460      9\n",
       "...                          ...         ...                        ...    ...\n",
       "53693 2020-07-31 13:59:13.201741       10683 2020-07-31 13:54:20.164253      1\n",
       "53694 2020-07-31 15:08:56.079027       12344 2020-07-31 15:06:51.043730      1\n",
       "53695 2020-07-31 15:52:50.353265       17475 2020-07-31 15:40:07.726529      7\n",
       "53696 2020-07-31 17:36:57.057913        9069 2020-07-31 17:33:27.096572      3\n",
       "53697 2020-07-31 17:58:53.067462        4870 2020-07-31 17:58:21.004418      4\n",
       "\n",
       "[53698 rows x 4 columns]"
      ]
     },
     "execution_count": 6,
     "metadata": {},
     "output_type": "execute_result"
    }
   ],
   "source": [
    "phq_df = phq_df.drop(columns='type')\n",
    "\n",
    "phq_df"
   ]
  },
  {
   "cell_type": "markdown",
   "metadata": {},
   "source": [
    "Make sure that `patient_date_created` is unique for each `patient_id`:"
   ]
  },
  {
   "cell_type": "code",
   "execution_count": 7,
   "metadata": {},
   "outputs": [
    {
     "data": {
      "text/plain": [
       "True"
      ]
     },
     "execution_count": 7,
     "metadata": {},
     "output_type": "execute_result"
    }
   ],
   "source": [
    "len(phq_df['patient_id'].drop_duplicates()) == \\\n",
    "len(phq_df['patient_date_created'].drop_duplicates())"
   ]
  },
  {
   "cell_type": "markdown",
   "metadata": {},
   "source": [
    "## Data representation"
   ]
  },
  {
   "cell_type": "markdown",
   "metadata": {},
   "source": [
    "If each point in time from `date` column represents a GAD-7 assessment taken by a patient with unique `patient_id`, it means that the dataset shows time series of observations for each patient.\n",
    "\n",
    "In other words, if we group the data by `patient_id`, we obtain a list of pairs (`date`, `score`), which we will process later. To illustrate the idea, let's perform a quick aggregation:"
   ]
  },
  {
   "cell_type": "code",
   "execution_count": 8,
   "metadata": {},
   "outputs": [
    {
     "data": {
      "text/html": [
       "<div>\n",
       "<style scoped>\n",
       "    .dataframe tbody tr th:only-of-type {\n",
       "        vertical-align: middle;\n",
       "    }\n",
       "\n",
       "    .dataframe tbody tr th {\n",
       "        vertical-align: top;\n",
       "    }\n",
       "\n",
       "    .dataframe thead th {\n",
       "        text-align: right;\n",
       "    }\n",
       "</style>\n",
       "<table border=\"1\" class=\"dataframe\">\n",
       "  <thead>\n",
       "    <tr style=\"text-align: right;\">\n",
       "      <th></th>\n",
       "      <th>patient_date_created</th>\n",
       "      <th>date</th>\n",
       "      <th>score</th>\n",
       "    </tr>\n",
       "    <tr>\n",
       "      <th>patient_id</th>\n",
       "      <th></th>\n",
       "      <th></th>\n",
       "      <th></th>\n",
       "    </tr>\n",
       "  </thead>\n",
       "  <tbody>\n",
       "    <tr>\n",
       "      <th>0</th>\n",
       "      <td>2019-12-04 16:21:58.994188</td>\n",
       "      <td>[2019-12-31 18:35:09.063829, 2020-01-29 19:45:42.206085, 2020-02-26 19:44:31.516123, 2020-03-27 18:25:25.588107, 2020-04-24 18:47:01.412846, 2020-05-22 18:38:29.559676]</td>\n",
       "      <td>[1, 0, 0, 0, 1, 1]</td>\n",
       "    </tr>\n",
       "    <tr>\n",
       "      <th>1</th>\n",
       "      <td>2020-01-21 23:29:16.740718</td>\n",
       "      <td>[2020-04-05 18:08:24.749997, 2020-04-11 05:10:14.684719]</td>\n",
       "      <td>[10, 11]</td>\n",
       "    </tr>\n",
       "    <tr>\n",
       "      <th>2</th>\n",
       "      <td>2020-04-08 17:26:42.952071</td>\n",
       "      <td>[2020-05-10 18:15:16.919307, 2020-06-11 22:57:48.000646, 2020-07-09 22:41:48.464082]</td>\n",
       "      <td>[16, 11, 11]</td>\n",
       "    </tr>\n",
       "    <tr>\n",
       "      <th>3</th>\n",
       "      <td>2020-03-24 15:41:13.422548</td>\n",
       "      <td>[2020-07-15 15:30:15.133561]</td>\n",
       "      <td>[5]</td>\n",
       "    </tr>\n",
       "    <tr>\n",
       "      <th>4</th>\n",
       "      <td>2020-06-05 14:00:19.294641</td>\n",
       "      <td>[2020-07-02 22:21:30.734098]</td>\n",
       "      <td>[13]</td>\n",
       "    </tr>\n",
       "  </tbody>\n",
       "</table>\n",
       "</div>"
      ],
      "text/plain": [
       "                 patient_date_created  \\\n",
       "patient_id                              \n",
       "0          2019-12-04 16:21:58.994188   \n",
       "1          2020-01-21 23:29:16.740718   \n",
       "2          2020-04-08 17:26:42.952071   \n",
       "3          2020-03-24 15:41:13.422548   \n",
       "4          2020-06-05 14:00:19.294641   \n",
       "\n",
       "                                                                                                                                                                                date  \\\n",
       "patient_id                                                                                                                                                                             \n",
       "0           [2019-12-31 18:35:09.063829, 2020-01-29 19:45:42.206085, 2020-02-26 19:44:31.516123, 2020-03-27 18:25:25.588107, 2020-04-24 18:47:01.412846, 2020-05-22 18:38:29.559676]   \n",
       "1                                                                                                                           [2020-04-05 18:08:24.749997, 2020-04-11 05:10:14.684719]   \n",
       "2                                                                                               [2020-05-10 18:15:16.919307, 2020-06-11 22:57:48.000646, 2020-07-09 22:41:48.464082]   \n",
       "3                                                                                                                                                       [2020-07-15 15:30:15.133561]   \n",
       "4                                                                                                                                                       [2020-07-02 22:21:30.734098]   \n",
       "\n",
       "                         score  \n",
       "patient_id                      \n",
       "0           [1, 0, 0, 0, 1, 1]  \n",
       "1                     [10, 11]  \n",
       "2                 [16, 11, 11]  \n",
       "3                          [5]  \n",
       "4                         [13]  "
      ]
     },
     "execution_count": 8,
     "metadata": {},
     "output_type": "execute_result"
    }
   ],
   "source": [
    "phq_aggregated_df = \\\n",
    "    phq_df \\\n",
    "        .groupby(['patient_id', 'patient_date_created']) \\\n",
    "        .agg(list) \\\n",
    "        .reset_index().set_index('patient_id')\n",
    "phq_aggregated_df.head()"
   ]
  },
  {
   "cell_type": "code",
   "execution_count": 9,
   "metadata": {},
   "outputs": [
    {
     "data": {
      "text/plain": [
       "15502"
      ]
     },
     "execution_count": 9,
     "metadata": {},
     "output_type": "execute_result"
    }
   ],
   "source": [
    "patients_cohort_size = len(phq_aggregated_df)\n",
    "patients_cohort_size"
   ]
  },
  {
   "cell_type": "markdown",
   "metadata": {},
   "source": [
    "To begin with, let's perform some data cleaning."
   ]
  },
  {
   "cell_type": "markdown",
   "metadata": {},
   "source": [
    "## Data cleaning"
   ]
  },
  {
   "cell_type": "markdown",
   "metadata": {},
   "source": [
    "From the description of GAD-7 assessment we know that this test: \n",
    "> asks how often one has been bothered by the problems represented in each question _over the last two weeks_\n",
    "\n",
    "Thus, if we observe that there were 2 consecutive observations, which were taken in a small period of time (say, same day), we need to filter out one of them. From the experience of dealing with online tests, I can say that sometimes a person can fill out the assessment form wrong, then realize it after some time and submit again. \n",
    "\n",
    "So the idea would be to check every pair of consecutive timestamps, and if the time difference between them is less then _timeframe_ days, keep more recent one of the pair.\n",
    "\n",
    "For that we write `Filter_close_observations` function:"
   ]
  },
  {
   "cell_type": "code",
   "execution_count": 10,
   "metadata": {},
   "outputs": [],
   "source": [
    "def Filter_close_observations(\n",
    "    record:pd.Series,\n",
    "    timeframe:int = 2, # minimal allowed timeframe width\n",
    ") -> np.array:\n",
    "    \n",
    "    \"\"\"\"\n",
    "    Performs a very basic filtering of a series of GAD-7 scores.\n",
    "    \"\"\"\n",
    "    \n",
    "    timestamps = record['date']\n",
    "    starting_date = record['patient_date_created']\n",
    "    \n",
    "    values_mask = np.ones(\n",
    "        len(timestamps),\n",
    "        dtype=np.bool,\n",
    "    )\n",
    "    for idx in range(len(timestamps) - 1):\n",
    "        interval_between_observations = (timestamps[idx+1] - timestamps[idx]).days\n",
    "        if interval_between_observations < timeframe:\n",
    "            values_mask[idx] = 0\n",
    "    \n",
    "    return values_mask"
   ]
  },
  {
   "cell_type": "markdown",
   "metadata": {},
   "source": [
    "Let's see how it works.\n",
    "\n",
    "For example, we have patient with `patient_id` = 18400, let's see when his/her tests were taken:"
   ]
  },
  {
   "cell_type": "code",
   "execution_count": 11,
   "metadata": {},
   "outputs": [
    {
     "data": {
      "text/plain": [
       "[(0, (Timestamp('2019-10-25 12:22:11.743787'), 1)),\n",
       " (1, (Timestamp('2019-12-20 13:08:12.641000'), 1)),\n",
       " (2, (Timestamp('2020-02-14 14:16:22.136018'), 2)),\n",
       " (3, (Timestamp('2020-02-14 14:21:35.770522'), 4)),\n",
       " (4, (Timestamp('2020-03-13 12:16:45.105485'), 2))]"
      ]
     },
     "execution_count": 11,
     "metadata": {},
     "output_type": "execute_result"
    }
   ],
   "source": [
    "list(enumerate(\n",
    "    tuple(zip(phq_aggregated_df.loc[18400]['date'], phq_aggregated_df.loc[18400]['score']))\n",
    "))"
   ]
  },
  {
   "cell_type": "markdown",
   "metadata": {},
   "source": [
    "We can see that observations 2 and 3 were taken in the same day.\n",
    "\n",
    "So, if we apply `Filter_close_observations` function, we'll get:"
   ]
  },
  {
   "cell_type": "code",
   "execution_count": 12,
   "metadata": {},
   "outputs": [
    {
     "data": {
      "text/plain": [
       "[(0, (Timestamp('2019-10-25 12:22:11.743787'), 1)),\n",
       " (1, (Timestamp('2019-12-20 13:08:12.641000'), 1)),\n",
       " (2, (Timestamp('2020-02-14 14:21:35.770522'), 4)),\n",
       " (3, (Timestamp('2020-03-13 12:16:45.105485'), 2))]"
      ]
     },
     "execution_count": 12,
     "metadata": {},
     "output_type": "execute_result"
    }
   ],
   "source": [
    "filtering_mask = Filter_close_observations(phq_aggregated_df.loc[18400])\n",
    "\n",
    "filtered_dates = np.array(phq_aggregated_df.loc[18400]['date'])[filtering_mask]\n",
    "filtered_timestamps = np.array(phq_aggregated_df.loc[18400]['score'])[filtering_mask]\n",
    "\n",
    "list(enumerate(\n",
    "    tuple(zip(filtered_dates, filtered_timestamps))\n",
    "))"
   ]
  },
  {
   "cell_type": "markdown",
   "metadata": {},
   "source": [
    "As a result, GAD-7 test taken at `2020-02-14 14:16:22.136018` was filtered out because there was another test at `2020-02-14 14:21:35.770522`, which was (supposedly) retaken 5 minutes later, so we keep only the latter from this pair.\n",
    "\n",
    "Now we can apply this function to the entire dataset:"
   ]
  },
  {
   "cell_type": "code",
   "execution_count": 13,
   "metadata": {},
   "outputs": [],
   "source": [
    "phq_aggregated_df['filtering_mask'] = \\\n",
    "    phq_aggregated_df.apply(Filter_close_observations, axis=1)"
   ]
  },
  {
   "cell_type": "code",
   "execution_count": 14,
   "metadata": {},
   "outputs": [],
   "source": [
    "phq_aggregated_df['date'] = phq_aggregated_df \\\n",
    "    .apply(lambda x: np.array(x['date'])[x['filtering_mask']], axis=1)\n",
    "\n",
    "phq_aggregated_df['score'] = phq_aggregated_df \\\n",
    "    .apply(lambda x: np.array(x['score'])[x['filtering_mask']], axis=1)"
   ]
  },
  {
   "cell_type": "markdown",
   "metadata": {},
   "source": [
    "We can also show how many values were filtered out:"
   ]
  },
  {
   "cell_type": "code",
   "execution_count": 15,
   "metadata": {},
   "outputs": [
    {
     "name": "stdout",
     "output_type": "stream",
     "text": [
      "Values before filtering: 53698\n",
      "Values after filtering: 49910\n",
      "Filtered out: 7.05427% of records\n"
     ]
    }
   ],
   "source": [
    "raw_record_count = len(phq_df)\n",
    "\n",
    "filtered_records_count = phq_aggregated_df['filtering_mask'].apply(np.sum).sum()\n",
    "\n",
    "print(f'Values before filtering: {raw_record_count}')\n",
    "print(f'Values after filtering: {filtered_records_count}')\n",
    "print(f'Filtered out: {round(100*(1 - filtered_records_count/raw_record_count), 5)}% of records')"
   ]
  },
  {
   "cell_type": "markdown",
   "metadata": {},
   "source": [
    "## Getting some information about patients"
   ]
  },
  {
   "cell_type": "markdown",
   "metadata": {},
   "source": [
    "### Further clinical evaluation recommendation"
   ]
  },
  {
   "cell_type": "markdown",
   "metadata": {},
   "source": [
    "According to the provided description, we know that if a patient obtained score of 10 or greater, further clinical evaluation is recommended. Thus, we can find patients who obtained score of 10 or greated at least once and put the result in `needs_clinical_eval` column:"
   ]
  },
  {
   "cell_type": "code",
   "execution_count": 16,
   "metadata": {},
   "outputs": [],
   "source": [
    "phq_aggregated_df['needs_clinical_eval'] = \\\n",
    "    phq_aggregated_df['score'].apply(lambda x: max(x) >=10)"
   ]
  },
  {
   "cell_type": "code",
   "execution_count": 17,
   "metadata": {},
   "outputs": [
    {
     "name": "stdout",
     "output_type": "stream",
     "text": [
      "Patients recommended to get a further clinical evaluation: 4402 (28.4%)\n"
     ]
    }
   ],
   "source": [
    "print(\n",
    "    '''Patients recommended to get a further clinical evaluation: '''\n",
    "    f'''{\n",
    "            phq_aggregated_df['needs_clinical_eval'].sum()\n",
    "        } ({\n",
    "            round(100*phq_aggregated_df['needs_clinical_eval'].sum()/\n",
    "            len(phq_aggregated_df), 2)\n",
    "            }%)'''\n",
    ")"
   ]
  },
  {
   "cell_type": "markdown",
   "metadata": {},
   "source": [
    "### Distribution of the number of observations"
   ]
  },
  {
   "cell_type": "code",
   "execution_count": 18,
   "metadata": {},
   "outputs": [
    {
     "data": {
      "image/png": "[encoded data removed]",
      "text/plain": [
       "<Figure size 1080x720 with 1 Axes>"
      ]
     },
     "metadata": {
      "needs_background": "light"
     },
     "output_type": "display_data"
    }
   ],
   "source": [
    "num_observations = phq_aggregated_df['date'].apply(len)\n",
    "hist_bins = [1,2,3,5,10,15,20,max(num_observations)]\n",
    "\n",
    "plt.title('Histogram of number of GAD-7 tests taken by a patient')\n",
    "plt.xlabel('Number of tests taken')\n",
    "plt.xticks(hist_bins)\n",
    "num_observations \\\n",
    "    .plot \\\n",
    "    .hist(\n",
    "        bins=num_observations.drop_duplicates().sort_values(),\n",
    "        rwidth=0.9,\n",
    "    )\n",
    "plt.show()"
   ]
  },
  {
   "cell_type": "code",
   "execution_count": 19,
   "metadata": {},
   "outputs": [
    {
     "name": "stdout",
     "output_type": "stream",
     "text": [
      " Average number of assessments taken: 3.22\n"
     ]
    }
   ],
   "source": [
    "print(f\" Average number of assessments taken: {round(num_observations.mean(), 2)}\")"
   ]
  },
  {
   "cell_type": "markdown",
   "metadata": {},
   "source": [
    "### Distribution of treatment duration"
   ]
  },
  {
   "cell_type": "markdown",
   "metadata": {},
   "source": [
    "To understand how long a treatment takes for each patient, we can plot a treatment duration histogram:"
   ]
  },
  {
   "cell_type": "code",
   "execution_count": 20,
   "metadata": {},
   "outputs": [],
   "source": [
    "treatment_length = phq_aggregated_df.apply(\n",
    "    lambda x: \\\n",
    "        (x['date'][-1] - x['patient_date_created']).days,\n",
    "    axis=1,\n",
    ")\n",
    "phq_aggregated_df['treatment_duration'] = treatment_length"
   ]
  },
  {
   "cell_type": "code",
   "execution_count": 21,
   "metadata": {},
   "outputs": [
    {
     "data": {
      "image/png": "[encoded data removed]",
      "text/plain": [
       "<Figure size 1080x720 with 1 Axes>"
      ]
     },
     "metadata": {
      "needs_background": "light"
     },
     "output_type": "display_data"
    }
   ],
   "source": [
    "plt.title('Histogram of treatment duration')\n",
    "plt.xlabel('Treatment time (days)')\n",
    "(treatment_length) \\\n",
    "    .plot \\\n",
    "    .hist(\n",
    "        bins=(treatment_length).drop_duplicates().sort_values(),\n",
    "    )\n",
    "plt.show()"
   ]
  },
  {
   "cell_type": "markdown",
   "metadata": {},
   "source": [
    "### Additional data filtering step: keep only patients who demonstrated meaningful involvement in testing process"
   ]
  },
  {
   "cell_type": "markdown",
   "metadata": {},
   "source": [
    "From these histograms we can see that a lot of patients did not perform their GAD-7 assessments in a timely manner/did not receive treatment, thus their score results cannot really show how effective the treatment is. The same thing comes to the number of observations. \n",
    "\n",
    "It would be better to filter out the patients whose treatment time (`treatment_length`) or number of observations (`num_observations`) is less than some threshold. For demonstration purposes let's set:\n",
    "* `treatment_length` threshold at 14 days\n",
    "* `num_observations` threshold at 3 assessments"
   ]
  },
  {
   "cell_type": "code",
   "execution_count": 22,
   "metadata": {},
   "outputs": [
    {
     "data": {
      "text/html": [
       "<div>\n",
       "<style scoped>\n",
       "    .dataframe tbody tr th:only-of-type {\n",
       "        vertical-align: middle;\n",
       "    }\n",
       "\n",
       "    .dataframe tbody tr th {\n",
       "        vertical-align: top;\n",
       "    }\n",
       "\n",
       "    .dataframe thead th {\n",
       "        text-align: right;\n",
       "    }\n",
       "</style>\n",
       "<table border=\"1\" class=\"dataframe\">\n",
       "  <thead>\n",
       "    <tr style=\"text-align: right;\">\n",
       "      <th></th>\n",
       "      <th>patient_date_created</th>\n",
       "      <th>date</th>\n",
       "      <th>score</th>\n",
       "      <th>filtering_mask</th>\n",
       "      <th>needs_clinical_eval</th>\n",
       "      <th>treatment_duration</th>\n",
       "    </tr>\n",
       "    <tr>\n",
       "      <th>patient_id</th>\n",
       "      <th></th>\n",
       "      <th></th>\n",
       "      <th></th>\n",
       "      <th></th>\n",
       "      <th></th>\n",
       "      <th></th>\n",
       "    </tr>\n",
       "  </thead>\n",
       "  <tbody>\n",
       "    <tr>\n",
       "      <th>0</th>\n",
       "      <td>2019-12-04 16:21:58.994188</td>\n",
       "      <td>[2019-12-31 18:35:09.063829, 2020-01-29 19:45:42.206085, 2020-02-26 19:44:31.516123, 2020-03-27 18:25:25.588107, 2020-04-24 18:47:01.412846, 2020-05-22 18:38:29.559676]</td>\n",
       "      <td>[1, 0, 0, 0, 1, 1]</td>\n",
       "      <td>[True, True, True, True, True, True]</td>\n",
       "      <td>False</td>\n",
       "      <td>170</td>\n",
       "    </tr>\n",
       "    <tr>\n",
       "      <th>2</th>\n",
       "      <td>2020-04-08 17:26:42.952071</td>\n",
       "      <td>[2020-05-10 18:15:16.919307, 2020-06-11 22:57:48.000646, 2020-07-09 22:41:48.464082]</td>\n",
       "      <td>[16, 11, 11]</td>\n",
       "      <td>[True, True, True]</td>\n",
       "      <td>True</td>\n",
       "      <td>92</td>\n",
       "    </tr>\n",
       "    <tr>\n",
       "      <th>8</th>\n",
       "      <td>2019-12-09 16:15:50.552521</td>\n",
       "      <td>[2019-12-19 13:50:25.195408, 2020-01-26 03:10:13.998682, 2020-03-20 01:51:17.615135, 2020-05-11 02:43:24.006108]</td>\n",
       "      <td>[4, 8, 7, 8]</td>\n",
       "      <td>[True, True, True, True]</td>\n",
       "      <td>False</td>\n",
       "      <td>153</td>\n",
       "    </tr>\n",
       "    <tr>\n",
       "      <th>11</th>\n",
       "      <td>2019-12-11 14:12:59.191996</td>\n",
       "      <td>[2019-12-11 20:43:07.693584, 2020-01-08 13:41:41.393185, 2020-02-05 15:29:02.675840, 2020-03-05 12:04:39.780997, 2020-03-25 12:24:53.825145, 2020-04-01 11:52:49.834114, 2020-04-20 19:41:34.420126, 2020-05-08 17:39:28.788287]</td>\n",
       "      <td>[2, 0, 6, 0, 0, 3, 2, 0]</td>\n",
       "      <td>[True, True, True, True, True, True, True, True]</td>\n",
       "      <td>False</td>\n",
       "      <td>149</td>\n",
       "    </tr>\n",
       "    <tr>\n",
       "      <th>12</th>\n",
       "      <td>2019-10-16 14:54:48.114265</td>\n",
       "      <td>[2019-10-23 19:34:39.823810, 2019-11-14 21:17:27.921790, 2019-12-18 13:42:21.443605, 2020-01-13 22:54:53.273016, 2020-02-18 22:52:36.327266]</td>\n",
       "      <td>[4, 2, 3, 4, 2]</td>\n",
       "      <td>[True, True, True, True, True]</td>\n",
       "      <td>False</td>\n",
       "      <td>125</td>\n",
       "    </tr>\n",
       "    <tr>\n",
       "      <th>...</th>\n",
       "      <td>...</td>\n",
       "      <td>...</td>\n",
       "      <td>...</td>\n",
       "      <td>...</td>\n",
       "      <td>...</td>\n",
       "      <td>...</td>\n",
       "    </tr>\n",
       "    <tr>\n",
       "      <th>18391</th>\n",
       "      <td>2019-09-04 20:03:05.678550</td>\n",
       "      <td>[2019-10-09 15:11:11.988576, 2019-11-06 15:10:42.360805, 2019-12-04 15:37:45.338947, 2020-01-03 16:40:51.137329, 2020-01-29 14:01:48.150438, 2020-02-26 15:09:52.406315]</td>\n",
       "      <td>[5, 0, 2, 2, 2, 3]</td>\n",
       "      <td>[False, True, True, True, True, True, True]</td>\n",
       "      <td>False</td>\n",
       "      <td>174</td>\n",
       "    </tr>\n",
       "    <tr>\n",
       "      <th>18392</th>\n",
       "      <td>2019-12-13 18:12:27.931602</td>\n",
       "      <td>[2019-12-18 22:09:13.927837, 2020-01-18 05:08:49.550493, 2020-03-12 17:21:37.950633, 2020-04-14 03:13:20.670711]</td>\n",
       "      <td>[12, 6, 11, 12]</td>\n",
       "      <td>[True, True, True, True]</td>\n",
       "      <td>True</td>\n",
       "      <td>122</td>\n",
       "    </tr>\n",
       "    <tr>\n",
       "      <th>18395</th>\n",
       "      <td>2020-02-12 18:31:59.525394</td>\n",
       "      <td>[2020-04-01 13:01:32.084678, 2020-05-28 13:58:53.638007, 2020-07-02 13:16:49.979076]</td>\n",
       "      <td>[0, 0, 0]</td>\n",
       "      <td>[True, True, True]</td>\n",
       "      <td>False</td>\n",
       "      <td>140</td>\n",
       "    </tr>\n",
       "    <tr>\n",
       "      <th>18397</th>\n",
       "      <td>2019-12-24 16:23:54.397793</td>\n",
       "      <td>[2019-12-24 16:24:46.749413, 2020-01-21 16:39:40.703720, 2020-03-16 19:46:01.154309, 2020-05-11 15:05:09.444952]</td>\n",
       "      <td>[1, 0, 0, 2]</td>\n",
       "      <td>[True, True, True, True]</td>\n",
       "      <td>False</td>\n",
       "      <td>138</td>\n",
       "    </tr>\n",
       "    <tr>\n",
       "      <th>18400</th>\n",
       "      <td>2019-09-27 18:01:22.529801</td>\n",
       "      <td>[2019-10-25 12:22:11.743787, 2019-12-20 13:08:12.641000, 2020-02-14 14:21:35.770522, 2020-03-13 12:16:45.105485]</td>\n",
       "      <td>[1, 1, 4, 2]</td>\n",
       "      <td>[True, True, False, True, True]</td>\n",
       "      <td>False</td>\n",
       "      <td>167</td>\n",
       "    </tr>\n",
       "  </tbody>\n",
       "</table>\n",
       "<p>8281 rows × 6 columns</p>\n",
       "</div>"
      ],
      "text/plain": [
       "                 patient_date_created  \\\n",
       "patient_id                              \n",
       "0          2019-12-04 16:21:58.994188   \n",
       "2          2020-04-08 17:26:42.952071   \n",
       "8          2019-12-09 16:15:50.552521   \n",
       "11         2019-12-11 14:12:59.191996   \n",
       "12         2019-10-16 14:54:48.114265   \n",
       "...                               ...   \n",
       "18391      2019-09-04 20:03:05.678550   \n",
       "18392      2019-12-13 18:12:27.931602   \n",
       "18395      2020-02-12 18:31:59.525394   \n",
       "18397      2019-12-24 16:23:54.397793   \n",
       "18400      2019-09-27 18:01:22.529801   \n",
       "\n",
       "                                                                                                                                                                                                                                        date  \\\n",
       "patient_id                                                                                                                                                                                                                                     \n",
       "0                                                                   [2019-12-31 18:35:09.063829, 2020-01-29 19:45:42.206085, 2020-02-26 19:44:31.516123, 2020-03-27 18:25:25.588107, 2020-04-24 18:47:01.412846, 2020-05-22 18:38:29.559676]   \n",
       "2                                                                                                                                                       [2020-05-10 18:15:16.919307, 2020-06-11 22:57:48.000646, 2020-07-09 22:41:48.464082]   \n",
       "8                                                                                                                           [2019-12-19 13:50:25.195408, 2020-01-26 03:10:13.998682, 2020-03-20 01:51:17.615135, 2020-05-11 02:43:24.006108]   \n",
       "11          [2019-12-11 20:43:07.693584, 2020-01-08 13:41:41.393185, 2020-02-05 15:29:02.675840, 2020-03-05 12:04:39.780997, 2020-03-25 12:24:53.825145, 2020-04-01 11:52:49.834114, 2020-04-20 19:41:34.420126, 2020-05-08 17:39:28.788287]   \n",
       "12                                                                                              [2019-10-23 19:34:39.823810, 2019-11-14 21:17:27.921790, 2019-12-18 13:42:21.443605, 2020-01-13 22:54:53.273016, 2020-02-18 22:52:36.327266]   \n",
       "...                                                                                                                                                                                                                                      ...   \n",
       "18391                                                               [2019-10-09 15:11:11.988576, 2019-11-06 15:10:42.360805, 2019-12-04 15:37:45.338947, 2020-01-03 16:40:51.137329, 2020-01-29 14:01:48.150438, 2020-02-26 15:09:52.406315]   \n",
       "18392                                                                                                                       [2019-12-18 22:09:13.927837, 2020-01-18 05:08:49.550493, 2020-03-12 17:21:37.950633, 2020-04-14 03:13:20.670711]   \n",
       "18395                                                                                                                                                   [2020-04-01 13:01:32.084678, 2020-05-28 13:58:53.638007, 2020-07-02 13:16:49.979076]   \n",
       "18397                                                                                                                       [2019-12-24 16:24:46.749413, 2020-01-21 16:39:40.703720, 2020-03-16 19:46:01.154309, 2020-05-11 15:05:09.444952]   \n",
       "18400                                                                                                                       [2019-10-25 12:22:11.743787, 2019-12-20 13:08:12.641000, 2020-02-14 14:21:35.770522, 2020-03-13 12:16:45.105485]   \n",
       "\n",
       "                               score  \\\n",
       "patient_id                             \n",
       "0                 [1, 0, 0, 0, 1, 1]   \n",
       "2                       [16, 11, 11]   \n",
       "8                       [4, 8, 7, 8]   \n",
       "11          [2, 0, 6, 0, 0, 3, 2, 0]   \n",
       "12                   [4, 2, 3, 4, 2]   \n",
       "...                              ...   \n",
       "18391             [5, 0, 2, 2, 2, 3]   \n",
       "18392                [12, 6, 11, 12]   \n",
       "18395                      [0, 0, 0]   \n",
       "18397                   [1, 0, 0, 2]   \n",
       "18400                   [1, 1, 4, 2]   \n",
       "\n",
       "                                              filtering_mask  \\\n",
       "patient_id                                                     \n",
       "0                       [True, True, True, True, True, True]   \n",
       "2                                         [True, True, True]   \n",
       "8                                   [True, True, True, True]   \n",
       "11          [True, True, True, True, True, True, True, True]   \n",
       "12                            [True, True, True, True, True]   \n",
       "...                                                      ...   \n",
       "18391            [False, True, True, True, True, True, True]   \n",
       "18392                               [True, True, True, True]   \n",
       "18395                                     [True, True, True]   \n",
       "18397                               [True, True, True, True]   \n",
       "18400                        [True, True, False, True, True]   \n",
       "\n",
       "            needs_clinical_eval  treatment_duration  \n",
       "patient_id                                           \n",
       "0                         False                 170  \n",
       "2                          True                  92  \n",
       "8                         False                 153  \n",
       "11                        False                 149  \n",
       "12                        False                 125  \n",
       "...                         ...                 ...  \n",
       "18391                     False                 174  \n",
       "18392                      True                 122  \n",
       "18395                     False                 140  \n",
       "18397                     False                 138  \n",
       "18400                     False                 167  \n",
       "\n",
       "[8281 rows x 6 columns]"
      ]
     },
     "execution_count": 22,
     "metadata": {},
     "output_type": "execute_result"
    }
   ],
   "source": [
    "treatment_length_threshold = 14\n",
    "num_observations_threshold = 3\n",
    "\n",
    "phq_aggregated_df = \\\n",
    "    phq_aggregated_df[\n",
    "        ~(\n",
    "            (treatment_length < treatment_length_threshold) | \\\n",
    "            (num_observations < num_observations_threshold))\n",
    "    ]\n",
    "phq_aggregated_df"
   ]
  },
  {
   "cell_type": "code",
   "execution_count": 23,
   "metadata": {},
   "outputs": [
    {
     "name": "stdout",
     "output_type": "stream",
     "text": [
      "Filtered out: 7221 patient records (46.6)%\n"
     ]
    }
   ],
   "source": [
    "n_filtered_patients = patients_cohort_size - len(phq_aggregated_df)\n",
    "print(\n",
    "    f'''Filtered out: {\n",
    "        n_filtered_patients\n",
    "    } patient records ({\n",
    "        round(100*n_filtered_patients/patients_cohort_size, 1)\n",
    "    })%'''\n",
    ")"
   ]
  },
  {
   "cell_type": "markdown",
   "metadata": {},
   "source": [
    "After cleaning let's take a look at the same data again:"
   ]
  },
  {
   "cell_type": "code",
   "execution_count": 24,
   "metadata": {},
   "outputs": [
    {
     "data": {
      "image/png": "[encoded data removed]",
      "text/plain": [
       "<Figure size 1080x720 with 1 Axes>"
      ]
     },
     "metadata": {
      "needs_background": "light"
     },
     "output_type": "display_data"
    }
   ],
   "source": [
    "plt.title('Histogram of treatment duration')\n",
    "plt.xlabel('Treatment time (days)')\n",
    "phq_aggregated_df['treatment_duration'] \\\n",
    "    .plot \\\n",
    "    .hist(\n",
    "        bins=phq_aggregated_df['treatment_duration'].drop_duplicates().sort_values(),\n",
    "    )\n",
    "plt.show()"
   ]
  },
  {
   "cell_type": "code",
   "execution_count": 25,
   "metadata": {},
   "outputs": [
    {
     "name": "stdout",
     "output_type": "stream",
     "text": [
      "Average number of assessments taken: 4.85\n"
     ]
    }
   ],
   "source": [
    "num_observations = phq_aggregated_df['date'].apply(len)\n",
    "print(\n",
    "    f\"Average number of assessments taken: {round(num_observations.mean(),2)}\"\n",
    ")"
   ]
  },
  {
   "cell_type": "code",
   "execution_count": 26,
   "metadata": {},
   "outputs": [
    {
     "name": "stdout",
     "output_type": "stream",
     "text": [
      "Average treatment length: 4.61 months\n"
     ]
    }
   ],
   "source": [
    "print(f\"Average treatment length: {round((phq_aggregated_df['treatment_duration'].mean()/30), 2)} months\")"
   ]
  },
  {
   "cell_type": "markdown",
   "metadata": {},
   "source": [
    "### Relationship between treatment duration and number of assessments taken"
   ]
  },
  {
   "cell_type": "markdown",
   "metadata": {},
   "source": [
    "It would be interesting to check how treatment duration and number of taken assessments are related to each other. For that we can calculate pearson correlation and check whether or not the hypothesis of these 2 features being related is valid:"
   ]
  },
  {
   "cell_type": "code",
   "execution_count": 27,
   "metadata": {},
   "outputs": [
    {
     "name": "stdout",
     "output_type": "stream",
     "text": [
      "Pearson correlation coefficient: 0.4582893075882659 \n",
      "p-value: 0.0\n"
     ]
    }
   ],
   "source": [
    "pearson_coef, p_value = pearsonr(\n",
    "    phq_aggregated_df['treatment_duration'],\n",
    "    phq_aggregated_df['date'].apply(len),\n",
    ")\n",
    "\n",
    "print(\n",
    "    f'Pearson correlation coefficient: {pearson_coef} \\n'\n",
    "    f'p-value: {p_value}'\n",
    ")"
   ]
  },
  {
   "cell_type": "code",
   "execution_count": 28,
   "metadata": {},
   "outputs": [
    {
     "data": {
      "image/png": "[encoded data removed]",
      "text/plain": [
       "<Figure size 1080x720 with 1 Axes>"
      ]
     },
     "metadata": {
      "needs_background": "light"
     },
     "output_type": "display_data"
    }
   ],
   "source": [
    "plt.title('Relationship between treatment duration and number of assessments taken')\n",
    "plt.xlabel('Treatment duration (months)')\n",
    "plt.ylabel('Number of assessments taken')\n",
    "plt.scatter(\n",
    "    phq_aggregated_df['treatment_duration']/30,\n",
    "    phq_aggregated_df['date'].apply(len),\n",
    ")\n",
    "plt.legend(\n",
    "    [f'Correlation: {round(pearson_coef, 3)}'],\n",
    "    loc='upper left'\n",
    ")\n",
    "plt.show()"
   ]
  },
  {
   "cell_type": "markdown",
   "metadata": {},
   "source": [
    "Value of ~0.46 indicates that there is a noticeable correlation between treatment length and number of assessments.\n",
    "\n",
    "P-value of 0 means that this result is statistically significant."
   ]
  },
  {
   "cell_type": "code",
   "execution_count": 29,
   "metadata": {},
   "outputs": [
    {
     "data": {
      "image/png": "[encoded data removed]",
      "text/plain": [
       "<Figure size 1080x720 with 1 Axes>"
      ]
     },
     "metadata": {
      "needs_background": "light"
     },
     "output_type": "display_data"
    }
   ],
   "source": [
    "plt.xlabel('Time for each assessment (months)')\n",
    "plt.title('Histogram of how much time takes each GAD-7 assessment (in days)')\n",
    "assessment_regularity = (\n",
    "    phq_aggregated_df['treatment_duration']/phq_aggregated_df['date'].apply(len)\n",
    ")\n",
    "\n",
    "assessment_regularity \\\n",
    "    .plot \\\n",
    "    .hist(\n",
    "        rwidth=0.9,\n",
    "    )\n",
    "plt.show()"
   ]
  },
  {
   "cell_type": "code",
   "execution_count": 30,
   "metadata": {},
   "outputs": [
    {
     "name": "stdout",
     "output_type": "stream",
     "text": [
      "Each GAD-7 test takes (on average): 30 days\n"
     ]
    }
   ],
   "source": [
    "print(\n",
    "    f'Each GAD-7 test takes (on average): {int(assessment_regularity.mean())} days'\n",
    ")"
   ]
  },
  {
   "cell_type": "markdown",
   "metadata": {},
   "source": [
    "### Patients progress during the treatment"
   ]
  },
  {
   "cell_type": "markdown",
   "metadata": {},
   "source": [
    "For each patient we can get the information of how good was his/her progress during the treatment.\n",
    "\n",
    "For that we can use linear model.\n",
    "Basically, we fit a line on a 2d plane, where\n",
    "\n",
    "* $x$ axis - time \n",
    "\n",
    "* $y$ axis - GAD-7 score\n",
    "\n",
    "The slope of the line would indicate the patient progress during treatment (score change per time unit).\n",
    "\n",
    "Let's demonstrate it:"
   ]
  },
  {
   "cell_type": "code",
   "execution_count": 31,
   "metadata": {},
   "outputs": [],
   "source": [
    "test_record = phq_aggregated_df.loc[18391]\n",
    "\n",
    "x = [\n",
    "    (timestamp - test_record['patient_date_created']).days/30 \n",
    "    for timestamp in test_record['date']\n",
    "]\n",
    "y = test_record['score']"
   ]
  },
  {
   "cell_type": "markdown",
   "metadata": {},
   "source": [
    "$x$ axis now represents the number of days since the patient was created (I assume this is when the treatment started)\n",
    "\n",
    "$y$ axis represents the GAD-7 scores"
   ]
  },
  {
   "cell_type": "code",
   "execution_count": 32,
   "metadata": {},
   "outputs": [
    {
     "name": "stdout",
     "output_type": "stream",
     "text": [
      "x axis (months):[1.133, 2.067, 3.0, 4.0, 4.867, 5.8]\n",
      "y axis (score) :[5 0 2 2 2 3]\n"
     ]
    }
   ],
   "source": [
    "print(f'x axis (months):{[round(val, 3) for val in x]}\\ny axis (score) :{y}')"
   ]
  },
  {
   "cell_type": "code",
   "execution_count": 33,
   "metadata": {},
   "outputs": [
    {
     "data": {
      "image/png": "[encoded data removed]",
      "text/plain": [
       "<Figure size 1080x720 with 1 Axes>"
      ]
     },
     "metadata": {
      "needs_background": "light"
     },
     "output_type": "display_data"
    }
   ],
   "source": [
    "progress_linefit = np.polyfit(x,y, 1)\n",
    "progress_poly1d = np.poly1d(progress_linefit)\n",
    "plt.scatter(x, y)\n",
    "plt.plot(x, progress_poly1d(x))\n",
    "plt.xlabel('Months since the patient was created (treatment started)')\n",
    "plt.ylabel('GAD-7 score')\n",
    "plt.title('GAD-7 score timeline')\n",
    "plt.grid()\n",
    "plt.legend(\n",
    "    [f'Slope for line: {round(progress_linefit[0], 3)} GAD points/month'],\n",
    "    loc = 'upper right'\n",
    ")\n",
    "plt.show()"
   ]
  },
  {
   "cell_type": "markdown",
   "metadata": {},
   "source": [
    "We can see that for the patient we took randomly the slope is negative, which means that treatment showed positive effect.\n",
    "\n",
    "Now we can write a simple function `Calculate_patient_progress` and get these values for all patients:"
   ]
  },
  {
   "cell_type": "code",
   "execution_count": 34,
   "metadata": {},
   "outputs": [],
   "source": [
    "def Calculate_patient_progress(\n",
    "    record: pd.Series,\n",
    "):\n",
    "    \"\"\"\n",
    "    Calculates the linear approximation of treatment effect.\n",
    "    Positive number indicates the GAD-7 score increasing, which is supposed to have negative overall effect.\n",
    "    \n",
    "    Units:\n",
    "        GAD-7 score change per month\n",
    "    \"\"\"\n",
    "    \n",
    "    x = [\n",
    "        (timestamp - record['patient_date_created']).days for timestamp in record['date']\n",
    "    ]\n",
    "    y = record['score']\n",
    "    \n",
    "    # we want an assesment to be at least 14 days long to make observations more representative \n",
    "    if (max(y) < 0.01) or (x[-1] - x[0]) < 14:\n",
    "        return 0.0\n",
    "    x = [timestamp/30 for timestamp in x]\n",
    "    \n",
    "    return np.polyfit(x, y, 1)[0]\n"
   ]
  },
  {
   "cell_type": "code",
   "execution_count": 35,
   "metadata": {},
   "outputs": [],
   "source": [
    "phq_aggregated_df['lin_score_change'] = \\\n",
    "    phq_aggregated_df.apply(\n",
    "        Calculate_patient_progress,\n",
    "        axis=1,\n",
    "    )"
   ]
  },
  {
   "cell_type": "markdown",
   "metadata": {},
   "source": [
    "Now we can investigate how these monthly score changes are distributed:"
   ]
  },
  {
   "cell_type": "code",
   "execution_count": 36,
   "metadata": {},
   "outputs": [
    {
     "data": {
      "image/png": "[encoded data removed]",
      "text/plain": [
       "<Figure size 1080x720 with 1 Axes>"
      ]
     },
     "metadata": {
      "needs_background": "light"
     },
     "output_type": "display_data"
    }
   ],
   "source": [
    "range_var = 7\n",
    "granularity = 4\n",
    "hist_bins = \\\n",
    "    np.linspace(-range_var, range_var, num=range_var*granularity+1)\n",
    "\n",
    "plt.xticks(hist_bins, rotation=45)\n",
    "plt.xlabel('Score change (per month)')\n",
    "plt.title('Distribution of GAD-7 score montly change (linear model)')\n",
    "phq_aggregated_df['lin_score_change'] \\\n",
    "    .hist(\n",
    "        #log=True,\n",
    "        bins=hist_bins+1/granularity,\n",
    "        rwidth=0.9,\n",
    "    )\n",
    "plt.show()"
   ]
  },
  {
   "cell_type": "code",
   "execution_count": 37,
   "metadata": {},
   "outputs": [
    {
     "name": "stdout",
     "output_type": "stream",
     "text": [
      "Avg score change: -0.24977626941847217 (GAD-7 points per month)\n",
      "Patients with positive dynamics: 4790\n",
      "Patients with negative dynamics: 3209\n",
      "Patients with no dynamics: 282\n",
      "\n"
     ]
    }
   ],
   "source": [
    "print(\n",
    "f'''Avg score change: {phq_aggregated_df['lin_score_change'].mean()} (GAD-7 points per month)\n",
    "Patients with positive dynamics: {len(phq_aggregated_df[phq_aggregated_df['lin_score_change'] < 0])}\n",
    "Patients with negative dynamics: {len(phq_aggregated_df[phq_aggregated_df['lin_score_change'] > 0])}\n",
    "Patients with no dynamics: {len(phq_aggregated_df[phq_aggregated_df['lin_score_change'] == 0])}\n",
    "''')"
   ]
  },
  {
   "cell_type": "markdown",
   "metadata": {},
   "source": [
    "### Outlier detection\n",
    "\n",
    "If we have enough observations (I would say, at least 4 since the data is quite sparse and not always consistent), we could try to detect outliers in the scores.\n",
    "Outliers can be a result of the following events:\n",
    "1) a patient made a mistake during the assessment\n",
    "2) a fact that GAD-7 was filled out correctly and over the last 2 weeks a patient was having significant anxiety severity change which can be investigated further.\n",
    "\n",
    "We tried to eliminate events of the 1st type performing data cleaning step, but errors are still possible.\n",
    "\n",
    "We can use mean score value as a naive estimator, and if a specific value is greather than $\\alpha$ * mean + std, we say it is an outlier. Mathematically, we say that measurement $m_i$ from a series of measurements $m$ is an outlier if:\n",
    "\n",
    "$$|m_i| > \\mu + \\alpha * \\sqrt{\\frac{\\Sigma_i(m_i - \\mu)^2}{N}}$$\n",
    "\n",
    "where $\\mu$ - mean value score across all the observations for a specific patient, $N$ - number of observations, $\\alpha$ describes the outlier tolerance. $\\alpha$ was set to 2.5, but the value can be changed if needed."
   ]
  },
  {
   "cell_type": "code",
   "execution_count": 38,
   "metadata": {},
   "outputs": [],
   "source": [
    "alpha = 2.5\n",
    "\n",
    "def Find_outliers(\n",
    "    record:pd.Series, \n",
    "    alpha:float=alpha,\n",
    "):\n",
    "    \"\"\"\n",
    "    Finds outlier GAD-7 scores. Sensitivity can be adjusted with alpha parameter.\n",
    "    \"\"\"\n",
    "    \n",
    "    if len(record) < 4:\n",
    "        return np.NaN\n",
    "    \n",
    "    mean_val = np.mean(record)\n",
    "    std = np.std(record)\n",
    "    \n",
    "    outlier_index = (abs(record - mean_val) > alpha * std)\n",
    "    outlier_position = outlier_index.nonzero()\n",
    "    \n",
    "    outlier_values = []\n",
    "    \n",
    "    for pos in outlier_position[0]:\n",
    "        outlier_values.append(record[pos])\n",
    "    \n",
    "    return np.array(outlier_values) if len(outlier_values) else np.NaN"
   ]
  },
  {
   "cell_type": "code",
   "execution_count": 39,
   "metadata": {},
   "outputs": [],
   "source": [
    "phq_aggregated_df['outlier_scores'] = \\\n",
    "    phq_aggregated_df['score'].apply(Find_outliers)"
   ]
  },
  {
   "cell_type": "code",
   "execution_count": 40,
   "metadata": {},
   "outputs": [
    {
     "name": "stdout",
     "output_type": "stream",
     "text": [
      "Patients with outlier scores: 50 (0.604%)\n"
     ]
    }
   ],
   "source": [
    "outliers_percent = \\\n",
    "    len(phq_aggregated_df[~phq_aggregated_df['outlier_scores'].isna()])/ \\\n",
    "    len(phq_aggregated_df)\n",
    "print(\n",
    "    f'''Patients with outlier scores: {\n",
    "        len(phq_aggregated_df[~phq_aggregated_df['outlier_scores'].isna()])\n",
    "    } ({round(100*outliers_percent, 3)}%)''')"
   ]
  },
  {
   "cell_type": "markdown",
   "metadata": {},
   "source": [
    "To illustrate how outlier detection works let's check some patient records with outlier results:"
   ]
  },
  {
   "cell_type": "code",
   "execution_count": 41,
   "metadata": {},
   "outputs": [
    {
     "data": {
      "text/html": [
       "<div>\n",
       "<style scoped>\n",
       "    .dataframe tbody tr th:only-of-type {\n",
       "        vertical-align: middle;\n",
       "    }\n",
       "\n",
       "    .dataframe tbody tr th {\n",
       "        vertical-align: top;\n",
       "    }\n",
       "\n",
       "    .dataframe thead th {\n",
       "        text-align: right;\n",
       "    }\n",
       "</style>\n",
       "<table border=\"1\" class=\"dataframe\">\n",
       "  <thead>\n",
       "    <tr style=\"text-align: right;\">\n",
       "      <th></th>\n",
       "      <th>score</th>\n",
       "      <th>outlier_scores</th>\n",
       "    </tr>\n",
       "    <tr>\n",
       "      <th>patient_id</th>\n",
       "      <th></th>\n",
       "      <th></th>\n",
       "    </tr>\n",
       "  </thead>\n",
       "  <tbody>\n",
       "    <tr>\n",
       "      <th>584</th>\n",
       "      <td>[10, 5, 4, 3, 3, 4, 3, 0, 0, 4, 0, 4, 1, 3, 3, 3, 2]</td>\n",
       "      <td>[10]</td>\n",
       "    </tr>\n",
       "    <tr>\n",
       "      <th>2462</th>\n",
       "      <td>[2, 1, 0, 5, 1, 0, 0, 0, 1, 0, 1, 1, 0, 0, 0, 0, 0, 1]</td>\n",
       "      <td>[5]</td>\n",
       "    </tr>\n",
       "    <tr>\n",
       "      <th>748</th>\n",
       "      <td>[11, 0, 0, 0, 0, 0, 0, 0]</td>\n",
       "      <td>[11]</td>\n",
       "    </tr>\n",
       "  </tbody>\n",
       "</table>\n",
       "</div>"
      ],
      "text/plain": [
       "                                                             score  \\\n",
       "patient_id                                                           \n",
       "584           [10, 5, 4, 3, 3, 4, 3, 0, 0, 4, 0, 4, 1, 3, 3, 3, 2]   \n",
       "2462        [2, 1, 0, 5, 1, 0, 0, 0, 1, 0, 1, 1, 0, 0, 0, 0, 0, 1]   \n",
       "748                                      [11, 0, 0, 0, 0, 0, 0, 0]   \n",
       "\n",
       "           outlier_scores  \n",
       "patient_id                 \n",
       "584                  [10]  \n",
       "2462                  [5]  \n",
       "748                  [11]  "
      ]
     },
     "execution_count": 41,
     "metadata": {},
     "output_type": "execute_result"
    }
   ],
   "source": [
    "phq_aggregated_df[['score', 'outlier_scores']] \\\n",
    "    [~phq_aggregated_df['outlier_scores'].isna()].sample(3)"
   ]
  },
  {
   "cell_type": "markdown",
   "metadata": {},
   "source": [
    "### Comparison of scores between first and last GAD-7 assessments"
   ]
  },
  {
   "cell_type": "markdown",
   "metadata": {},
   "source": [
    "To check the overall treatment effect we can also compare score distributions on the first and last GAD-7 assessments:"
   ]
  },
  {
   "cell_type": "code",
   "execution_count": 42,
   "metadata": {},
   "outputs": [
    {
     "data": {
      "image/png": "[encoded data removed]",
      "text/plain": [
       "<Figure size 1080x720 with 1 Axes>"
      ]
     },
     "metadata": {
      "needs_background": "light"
     },
     "output_type": "display_data"
    }
   ],
   "source": [
    "phq_start_score = phq_aggregated_df['score'].apply(lambda x: x[0])\n",
    "hist_bins = [0,5,10,15,21]\n",
    "\n",
    "plt.xlabel('GAD-7 score (severity binning)')\n",
    "plt.title('Comparison of first and last GAD-7 assessments')\n",
    "phq_start_score.hist(\n",
    "    alpha = 0.7, \n",
    "    label='Before treatment',\n",
    "    bins=hist_bins,\n",
    ")\n",
    "\n",
    "phq_end_score = phq_aggregated_df['score'].apply(lambda x: x[-1])\n",
    "\n",
    "phq_end_score.hist(\n",
    "    alpha = 0.5, \n",
    "    label='After treatment (last assessment)',\n",
    "    bins=hist_bins,\n",
    ")\n",
    "plt.legend(loc='upper right')\n",
    "plt.show()"
   ]
  },
  {
   "cell_type": "markdown",
   "metadata": {},
   "source": [
    "It is clearly seen that last assessment scores distribution (orange) is significantly more skewed towards lower values (low to minimal severity level) than the scores distribution before treatment.\n",
    "\n",
    "We can also take a look at how GAD-7 score difference is distributed (last - first assessment):"
   ]
  },
  {
   "cell_type": "code",
   "execution_count": 43,
   "metadata": {},
   "outputs": [
    {
     "data": {
      "image/png": "[encoded data removed]",
      "text/plain": [
       "<Figure size 1080x720 with 1 Axes>"
      ]
     },
     "metadata": {
      "needs_background": "light"
     },
     "output_type": "display_data"
    }
   ],
   "source": [
    "plt.title('Distribution of score differences between last and first GAD-7 assignment')\n",
    "plt.xlabel('Score change (GAD-7 points)')\n",
    "plt.xticks((phq_end_score - phq_start_score).drop_duplicates().sort_values())\n",
    "(phq_end_score - phq_start_score).hist(\n",
    "    rwidth=0.9,\n",
    "    bins=0.5+(phq_end_score - phq_start_score).drop_duplicates().sort_values(),\n",
    ")\n",
    "plt.show()"
   ]
  },
  {
   "cell_type": "code",
   "execution_count": 44,
   "metadata": {},
   "outputs": [
    {
     "name": "stdout",
     "output_type": "stream",
     "text": [
      "Avg score at the beginning of the treatment: 5.100953991063881\n",
      "Avg score at the end of the treatment: 4.16857867407318\n",
      "Avg score change -0.9323753169907016\n"
     ]
    }
   ],
   "source": [
    "print(\n",
    "    f'Avg score at the beginning of the treatment: {phq_start_score.mean()}\\n'\n",
    "    f'Avg score at the end of the treatment: {phq_end_score.mean()}\\n'\n",
    "    f'Avg score change {(phq_end_score - phq_start_score).mean()}'\n",
    ")"
   ]
  },
  {
   "cell_type": "markdown",
   "metadata": {},
   "source": [
    "Additionally, We can estimate how many patients with initial GAD-7 scores $\\geq$10 changed their severity status from Moderate or Severe to Mild or Minimal:"
   ]
  },
  {
   "cell_type": "code",
   "execution_count": 45,
   "metadata": {},
   "outputs": [],
   "source": [
    "n_patients_with_initially_severe_status = sum(phq_start_score >= 10)\n",
    "n_patients_with_after_treatment_severe_status = sum(phq_end_score >= 10)\n",
    "n_severe_patients_positive_change = \\\n",
    "    n_patients_with_initially_severe_status - \\\n",
    "    n_patients_with_after_treatment_severe_status"
   ]
  },
  {
   "cell_type": "code",
   "execution_count": 46,
   "metadata": {},
   "outputs": [
    {
     "name": "stdout",
     "output_type": "stream",
     "text": [
      "433 patients with initially Moderate/Severe status changed their status to Mild/Minimal, which is 26.961% of all patients initially Moderate/Severe with status (1606)\n"
     ]
    }
   ],
   "source": [
    "print(\n",
    "    f'{n_severe_patients_positive_change} '\n",
    "    'patients with initially Moderate/Severe status changed their status to Mild/Minimal, '\n",
    "    f'which is {round(100*n_severe_patients_positive_change/n_patients_with_initially_severe_status, 3)}% '\n",
    "    f'of all patients initially Moderate/Severe with status ({n_patients_with_initially_severe_status})'\n",
    ")"
   ]
  },
  {
   "cell_type": "markdown",
   "metadata": {},
   "source": [
    "## Summary"
   ]
  },
  {
   "cell_type": "markdown",
   "metadata": {},
   "source": [
    "_Data cleaning and filtering_\n",
    "\n",
    "* During the initial data cleaning (based on the assessment error assumption, check <a href=\"#Data-cleaning\" data-toc-modified-id=\"Data-cleaning-1.4\"><span class=\"toc-item-num\"></span>Data cleaning</a> for details) around 7% (3788 from 53698) of the records were filtered out.\n",
    "* A quick analysis of assessments histograms showed that many patients did not perform their GAD-7 assessments in a timely manner, thus these patients were excluded from the analysis as not representative. Filtering parameters (treatment duration and number of tests taken) can be adjusted and all the values will be therefore recalculated.\n",
    "  * For the contemporary analysis the following threshold values were used:\n",
    "    * minimum treatment duration: 14 days\n",
    "    * minimum number of taken assessments: 3 assessments\n",
    "\n",
    "  * 46.6% patient records were filtered out (7221 from 15502)\n",
    "\n",
    "_Assessments analysis_\n",
    "\n",
    "* Analysis of data quality showed that there is a noticeable (~0.46) correlation between treatment length (in time units) and number of assessments, which confirms that the relationhsip:\n",
    "_longer treatment period - more assessments taken_ is valid\n",
    "\n",
    "* On average, assessments were taken once a month (or: time needed for an assessment completion is around a month).\n",
    "\n",
    "* Average treatment time: 4.6 months\n",
    "\n",
    "* Average number of tests for each patient: 4.85\n",
    "\n",
    "_Treatment effectiveness analysis_\n",
    "\n",
    "We showed that the treatment has an __overall positive effect__ (according to GAD-7 assessment scores) with the following methods:\n",
    "* Linear modeling of patients progress (GAD-7 score change per month) (avg 0.25 point/month improvement)\n",
    "  * Patients with positive dynamics: 4796\n",
    "  * Patients with negative dynamics: 3201\n",
    "  * Patients with no dynamics: 284\n",
    "  * Patients whose data was not evaluated: 7221\n",
    "* Comparison between GAD-7 initial scores and GAD-7 last obtained scores (avg 0.93 point improvement)\n",
    "\n",
    "For patients who are recommended additional clinical evaluation (based on their initial GAD-7 score $\\geq$ 10): \n",
    "* 1606 patients had initial GAD-7 score $\\geq$ 10. After treatment the number of patients with GAD-7 score $\\geq$ 10 was reduced to 1173, which means that 433 patients (or 26.96%) changed their severity status from Moderate or Severe to Mild or Minimal\n",
    "\n",
    "_Some additional information about patients_\n",
    "\n",
    "* Number of patients in the dataset (total): 15502\n",
    "\n",
    "* 4402 patients (from 15502) are recommended to get a clinical evaluation (based on their max GAD-7 score) \n",
    "\n",
    "* 50 patients have at least one unusual (outlier) test score, which can also be checked. This number can vary based on detection sensitivity paramether $\\alpha$ (Details can be found in <a href=\"#Outlier-detection\" data-toc-modified-id=\"Outlier-detection-1.5.6\"><span class=\"toc-item-num\"></span>Outlier detection section</a>)"
   ]
  }
 ],
 "metadata": {
  "kernelspec": {
   "display_name": "Python 3",
   "language": "python",
   "name": "python3"
  },
  "language_info": {
   "codemirror_mode": {
    "name": "ipython",
    "version": 3
   },
   "file_extension": ".py",
   "mimetype": "text/x-python",
   "name": "python",
   "nbconvert_exporter": "python",
   "pygments_lexer": "ipython3",
   "version": "3.8.5"
  },
  "toc": {
   "base_numbering": 1,
   "nav_menu": {},
   "number_sections": true,
   "sideBar": true,
   "skip_h1_title": false,
   "title_cell": "Table of Contents",
   "title_sidebar": "Contents",
   "toc_cell": true,
   "toc_position": {
    "height": "calc(100% - 180px)",
    "left": "10px",
    "top": "150px",
    "width": "345.333px"
   },
   "toc_section_display": true,
   "toc_window_display": true
  }
 },
 "nbformat": 4,
 "nbformat_minor": 4
}
